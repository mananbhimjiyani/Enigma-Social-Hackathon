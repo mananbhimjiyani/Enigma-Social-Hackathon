{
 "cells": [
  {
   "cell_type": "markdown",
   "metadata": {},
   "source": [
    "### Importing libraries"
   ]
  },
  {
   "cell_type": "code",
   "execution_count": 1,
   "metadata": {
    "execution": {
     "iopub.execute_input": "2022-11-04T05:50:11.979092Z",
     "iopub.status.busy": "2022-11-04T05:50:11.978565Z",
     "iopub.status.idle": "2022-11-04T05:50:16.898803Z",
     "shell.execute_reply": "2022-11-04T05:50:16.897835Z",
     "shell.execute_reply.started": "2022-11-04T05:50:11.978987Z"
    }
   },
   "outputs": [],
   "source": [
    "import numpy as np\n",
    "import numpy as np\n",
    "import pandas as pd\n",
    "import matplotlib.pyplot as plt\n",
    "import tensorflow as tf\n",
    "from keras import Sequential\n",
    "from tensorflow.keras.layers import *\n",
    "from tensorflow.keras.models import * \n",
    "from tensorflow.keras.preprocessing import image"
   ]
  },
  {
   "cell_type": "markdown",
   "metadata": {},
   "source": [
    "## Image data generation"
   ]
  },
  {
   "cell_type": "code",
   "execution_count": 2,
   "metadata": {
    "execution": {
     "iopub.execute_input": "2022-11-04T05:50:32.597879Z",
     "iopub.status.busy": "2022-11-04T05:50:32.597250Z",
     "iopub.status.idle": "2022-11-04T05:50:32.603732Z",
     "shell.execute_reply": "2022-11-04T05:50:32.602489Z",
     "shell.execute_reply.started": "2022-11-04T05:50:32.597839Z"
    }
   },
   "outputs": [],
   "source": [
    "train_path= '../input/ultrasound-breast-images-for-breast-cancer/ultrasound breast classification/train'\n",
    "test_path='../input/ultrasound-breast-images-for-breast-cancer/ultrasound breast classification/val'"
   ]
  },
  {
   "cell_type": "code",
   "execution_count": 3,
   "metadata": {
    "execution": {
     "iopub.execute_input": "2022-11-04T05:50:33.528434Z",
     "iopub.status.busy": "2022-11-04T05:50:33.527996Z",
     "iopub.status.idle": "2022-11-04T05:50:33.535670Z",
     "shell.execute_reply": "2022-11-04T05:50:33.534569Z",
     "shell.execute_reply.started": "2022-11-04T05:50:33.528396Z"
    }
   },
   "outputs": [],
   "source": [
    "train_datagen = image.ImageDataGenerator(\n",
    "    rotation_range=15,\n",
    "    shear_range=0.2,\n",
    "    zoom_range=0.2,\n",
    "    horizontal_flip=True,\n",
    "    fill_mode='nearest',\n",
    "    width_shift_range=0.1,\n",
    "    height_shift_range=0.1\n",
    ")\n",
    "val_datagen= image.ImageDataGenerator(    rotation_range=15,\n",
    "    shear_range=0.2,\n",
    "    zoom_range=0.2,\n",
    "    horizontal_flip=True,\n",
    "    fill_mode='nearest',\n",
    "    width_shift_range=0.1,\n",
    "    height_shift_range=0.1)"
   ]
  },
  {
   "cell_type": "code",
   "execution_count": 5,
   "metadata": {
    "execution": {
     "iopub.execute_input": "2022-11-04T05:50:40.498462Z",
     "iopub.status.busy": "2022-11-04T05:50:40.498100Z",
     "iopub.status.idle": "2022-11-04T05:50:43.251331Z",
     "shell.execute_reply": "2022-11-04T05:50:43.250393Z",
     "shell.execute_reply.started": "2022-11-04T05:50:40.498431Z"
    }
   },
   "outputs": [
    {
     "name": "stdout",
     "output_type": "stream",
     "text": [
      "Found 8116 images belonging to 2 classes.\n",
      "Found 900 images belonging to 2 classes.\n"
     ]
    }
   ],
   "source": [
    "train_generator = train_datagen.flow_from_directory(\n",
    "    train_path,\n",
    "    target_size = (224,224),\n",
    "    batch_size = 4,\n",
    "    class_mode = 'binary')\n",
    "validation_generator = val_datagen.flow_from_directory(\n",
    "    test_path,\n",
    "    target_size = (224,224),\n",
    "    batch_size = 4,\n",
    "    shuffle=True,\n",
    "    class_mode = 'binary')"
   ]
  },
  {
   "cell_type": "markdown",
   "metadata": {},
   "source": [
    "## CNN Model- EfficientNetB3"
   ]
  },
  {
   "cell_type": "code",
   "execution_count": 6,
   "metadata": {
    "execution": {
     "iopub.execute_input": "2022-11-04T05:50:46.558089Z",
     "iopub.status.busy": "2022-11-04T05:50:46.557421Z",
     "iopub.status.idle": "2022-11-04T05:50:55.098892Z",
     "shell.execute_reply": "2022-11-04T05:50:55.097871Z",
     "shell.execute_reply.started": "2022-11-04T05:50:46.558055Z"
    }
   },
   "outputs": [
    {
     "name": "stderr",
     "output_type": "stream",
     "text": [
      "2022-11-04 05:50:46.671474: I tensorflow/stream_executor/cuda/cuda_gpu_executor.cc:937] successful NUMA node read from SysFS had negative value (-1), but there must be at least one NUMA node, so returning NUMA node zero\n",
      "2022-11-04 05:50:46.790235: I tensorflow/stream_executor/cuda/cuda_gpu_executor.cc:937] successful NUMA node read from SysFS had negative value (-1), but there must be at least one NUMA node, so returning NUMA node zero\n",
      "2022-11-04 05:50:46.790996: I tensorflow/stream_executor/cuda/cuda_gpu_executor.cc:937] successful NUMA node read from SysFS had negative value (-1), but there must be at least one NUMA node, so returning NUMA node zero\n",
      "2022-11-04 05:50:46.792909: I tensorflow/core/platform/cpu_feature_guard.cc:142] This TensorFlow binary is optimized with oneAPI Deep Neural Network Library (oneDNN) to use the following CPU instructions in performance-critical operations:  AVX2 AVX512F FMA\n",
      "To enable them in other operations, rebuild TensorFlow with the appropriate compiler flags.\n",
      "2022-11-04 05:50:46.793193: I tensorflow/stream_executor/cuda/cuda_gpu_executor.cc:937] successful NUMA node read from SysFS had negative value (-1), but there must be at least one NUMA node, so returning NUMA node zero\n",
      "2022-11-04 05:50:46.793947: I tensorflow/stream_executor/cuda/cuda_gpu_executor.cc:937] successful NUMA node read from SysFS had negative value (-1), but there must be at least one NUMA node, so returning NUMA node zero\n",
      "2022-11-04 05:50:46.794599: I tensorflow/stream_executor/cuda/cuda_gpu_executor.cc:937] successful NUMA node read from SysFS had negative value (-1), but there must be at least one NUMA node, so returning NUMA node zero\n",
      "2022-11-04 05:50:49.077121: I tensorflow/stream_executor/cuda/cuda_gpu_executor.cc:937] successful NUMA node read from SysFS had negative value (-1), but there must be at least one NUMA node, so returning NUMA node zero\n",
      "2022-11-04 05:50:49.078037: I tensorflow/stream_executor/cuda/cuda_gpu_executor.cc:937] successful NUMA node read from SysFS had negative value (-1), but there must be at least one NUMA node, so returning NUMA node zero\n",
      "2022-11-04 05:50:49.078767: I tensorflow/stream_executor/cuda/cuda_gpu_executor.cc:937] successful NUMA node read from SysFS had negative value (-1), but there must be at least one NUMA node, so returning NUMA node zero\n",
      "2022-11-04 05:50:49.079357: I tensorflow/core/common_runtime/gpu/gpu_device.cc:1510] Created device /job:localhost/replica:0/task:0/device:GPU:0 with 15401 MB memory:  -> device: 0, name: Tesla P100-PCIE-16GB, pci bus id: 0000:00:04.0, compute capability: 6.0\n"
     ]
    },
    {
     "name": "stdout",
     "output_type": "stream",
     "text": [
      "Downloading data from https://storage.googleapis.com/keras-applications/efficientnetb3_notop.h5\n",
      "43941888/43941136 [==============================] - 2s 0us/step\n",
      "43950080/43941136 [==============================] - 2s 0us/step\n",
      "Model: \"sequential\"\n",
      "_________________________________________________________________\n",
      "Layer (type)                 Output Shape              Param #   \n",
      "=================================================================\n",
      "efficientnetb3 (Functional)  (None, 7, 7, 1536)        10783535  \n",
      "_________________________________________________________________\n",
      "gaussian_noise (GaussianNois (None, 7, 7, 1536)        0         \n",
      "_________________________________________________________________\n",
      "global_average_pooling2d (Gl (None, 1536)              0         \n",
      "_________________________________________________________________\n",
      "dense (Dense)                (None, 256)               393472    \n",
      "_________________________________________________________________\n",
      "batch_normalization (BatchNo (None, 256)               1024      \n",
      "_________________________________________________________________\n",
      "gaussian_noise_1 (GaussianNo (None, 256)               0         \n",
      "_________________________________________________________________\n",
      "dropout (Dropout)            (None, 256)               0         \n",
      "_________________________________________________________________\n",
      "dense_1 (Dense)              (None, 1)                 257       \n",
      "=================================================================\n",
      "Total params: 11,178,288\n",
      "Trainable params: 394,241\n",
      "Non-trainable params: 10,784,047\n",
      "_________________________________________________________________\n"
     ]
    }
   ],
   "source": [
    "base_model = tf.keras.applications.EfficientNetB3(weights='imagenet', input_shape=(224,224,3), include_top=False)\n",
    "\n",
    "for layer in base_model.layers:\n",
    "    layer.trainable=False\n",
    "model = Sequential()\n",
    "model.add(base_model)\n",
    "model.add(GaussianNoise(0.25))\n",
    "model.add(GlobalAveragePooling2D())\n",
    "model.add(Dense(256,activation='relu'))\n",
    "model.add(BatchNormalization())\n",
    "model.add(GaussianNoise(0.25))\n",
    "model.add(Dropout(0.25))\n",
    "model.add(Dense(1, activation='sigmoid'))\n",
    "model.summary()"
   ]
  },
  {
   "cell_type": "code",
   "execution_count": 7,
   "metadata": {
    "execution": {
     "iopub.execute_input": "2022-11-04T05:50:55.101453Z",
     "iopub.status.busy": "2022-11-04T05:50:55.101099Z",
     "iopub.status.idle": "2022-11-04T05:50:55.118659Z",
     "shell.execute_reply": "2022-11-04T05:50:55.117700Z",
     "shell.execute_reply.started": "2022-11-04T05:50:55.101417Z"
    }
   },
   "outputs": [],
   "source": [
    "model.compile(loss='binary_crossentropy',\n",
    "              optimizer='adam',\n",
    "              metrics=['accuracy','AUC','Precision','Recall'])"
   ]
  },
  {
   "cell_type": "code",
   "execution_count": 8,
   "metadata": {
    "execution": {
     "iopub.execute_input": "2022-11-04T05:50:55.120834Z",
     "iopub.status.busy": "2022-11-04T05:50:55.120375Z",
     "iopub.status.idle": "2022-11-04T05:56:06.320559Z",
     "shell.execute_reply": "2022-11-04T05:56:06.319577Z",
     "shell.execute_reply.started": "2022-11-04T05:50:55.120790Z"
    }
   },
   "outputs": [
    {
     "name": "stderr",
     "output_type": "stream",
     "text": [
      "2022-11-04 05:50:55.291757: I tensorflow/compiler/mlir/mlir_graph_optimization_pass.cc:185] None of the MLIR Optimization Passes are enabled (registered 2)\n"
     ]
    },
    {
     "name": "stdout",
     "output_type": "stream",
     "text": [
      "Epoch 1/15\n"
     ]
    },
    {
     "name": "stderr",
     "output_type": "stream",
     "text": [
      "2022-11-04 05:51:04.579856: I tensorflow/stream_executor/cuda/cuda_dnn.cc:369] Loaded cuDNN version 8005\n"
     ]
    },
    {
     "name": "stdout",
     "output_type": "stream",
     "text": [
      "50/50 [==============================] - 36s 433ms/step - loss: 0.9254 - accuracy: 0.5750 - auc: 0.6294 - precision: 0.5588 - recall: 0.5876 - val_loss: 0.5348 - val_accuracy: 0.7444 - val_auc: 0.8457 - val_precision: 0.8728 - val_recall: 0.4975\n",
      "\n",
      "Epoch 00001: val_accuracy improved from -inf to 0.74444, saving model to best_model.h5\n"
     ]
    },
    {
     "name": "stderr",
     "output_type": "stream",
     "text": [
      "/opt/conda/lib/python3.7/site-packages/keras/utils/generic_utils.py:497: CustomMaskWarning: Custom mask layers require a config and must override get_config. When loading, the custom mask layer must be passed to the custom_objects argument.\n",
      "  category=CustomMaskWarning)\n"
     ]
    },
    {
     "name": "stdout",
     "output_type": "stream",
     "text": [
      "Epoch 2/15\n",
      "50/50 [==============================] - 17s 346ms/step - loss: 0.5912 - accuracy: 0.7200 - auc: 0.7984 - precision: 0.7075 - recall: 0.7500 - val_loss: 0.4956 - val_accuracy: 0.7578 - val_auc: 0.8398 - val_precision: 0.7370 - val_recall: 0.7075\n",
      "\n",
      "Epoch 00002: val_accuracy improved from 0.74444 to 0.75778, saving model to best_model.h5\n",
      "Epoch 3/15\n",
      "50/50 [==============================] - 18s 355ms/step - loss: 0.6609 - accuracy: 0.7200 - auc: 0.7758 - precision: 0.7736 - recall: 0.7193 - val_loss: 0.3664 - val_accuracy: 0.8467 - val_auc: 0.9218 - val_precision: 0.8149 - val_recall: 0.8475\n",
      "\n",
      "Epoch 00003: val_accuracy improved from 0.75778 to 0.84667, saving model to best_model.h5\n",
      "Epoch 4/15\n",
      "50/50 [==============================] - 16s 327ms/step - loss: 0.6391 - accuracy: 0.7000 - auc: 0.7837 - precision: 0.7429 - recall: 0.7027 - val_loss: 0.3716 - val_accuracy: 0.8322 - val_auc: 0.9146 - val_precision: 0.8285 - val_recall: 0.7850\n",
      "\n",
      "Epoch 00004: val_accuracy did not improve from 0.84667\n",
      "Epoch 5/15\n",
      "50/50 [==============================] - 17s 340ms/step - loss: 0.5412 - accuracy: 0.7450 - auc: 0.8204 - precision: 0.7545 - recall: 0.7757 - val_loss: 0.4139 - val_accuracy: 0.8122 - val_auc: 0.8941 - val_precision: 0.7770 - val_recall: 0.8100\n",
      "\n",
      "Epoch 00005: val_accuracy did not improve from 0.84667\n",
      "Epoch 6/15\n",
      "50/50 [==============================] - 19s 380ms/step - loss: 0.5545 - accuracy: 0.7550 - auc: 0.8117 - precision: 0.7105 - recall: 0.8351 - val_loss: 0.4674 - val_accuracy: 0.8056 - val_auc: 0.8798 - val_precision: 0.8338 - val_recall: 0.7025\n",
      "\n",
      "Epoch 00006: val_accuracy did not improve from 0.84667\n",
      "Epoch 7/15\n",
      "50/50 [==============================] - 16s 331ms/step - loss: 0.5445 - accuracy: 0.7550 - auc: 0.8203 - precision: 0.7234 - recall: 0.7473 - val_loss: 0.4807 - val_accuracy: 0.7944 - val_auc: 0.8844 - val_precision: 0.8349 - val_recall: 0.6700\n",
      "\n",
      "Epoch 00007: val_accuracy did not improve from 0.84667\n",
      "Epoch 8/15\n",
      "50/50 [==============================] - 17s 345ms/step - loss: 0.5078 - accuracy: 0.7850 - auc: 0.8441 - precision: 0.8172 - recall: 0.7451 - val_loss: 0.3907 - val_accuracy: 0.8200 - val_auc: 0.9062 - val_precision: 0.7820 - val_recall: 0.8250\n",
      "\n",
      "Epoch 00008: val_accuracy did not improve from 0.84667\n",
      "Epoch 9/15\n",
      "50/50 [==============================] - 16s 328ms/step - loss: 0.4218 - accuracy: 0.8000 - auc: 0.8857 - precision: 0.7864 - recall: 0.8182 - val_loss: 0.4074 - val_accuracy: 0.8133 - val_auc: 0.9056 - val_precision: 0.7648 - val_recall: 0.8375\n",
      "\n",
      "Epoch 00009: val_accuracy did not improve from 0.84667\n",
      "Epoch 10/15\n",
      "50/50 [==============================] - 17s 342ms/step - loss: 0.5121 - accuracy: 0.7350 - auc: 0.8460 - precision: 0.7374 - recall: 0.7300 - val_loss: 0.4560 - val_accuracy: 0.8211 - val_auc: 0.9030 - val_precision: 0.8893 - val_recall: 0.6825\n",
      "\n",
      "Epoch 00010: val_accuracy did not improve from 0.84667\n",
      "Epoch 11/15\n",
      "50/50 [==============================] - 17s 339ms/step - loss: 0.4527 - accuracy: 0.7950 - auc: 0.8705 - precision: 0.8351 - recall: 0.7642 - val_loss: 0.3528 - val_accuracy: 0.8478 - val_auc: 0.9217 - val_precision: 0.8296 - val_recall: 0.8275\n",
      "\n",
      "Epoch 00011: val_accuracy improved from 0.84667 to 0.84778, saving model to best_model.h5\n",
      "Epoch 12/15\n",
      "50/50 [==============================] - 16s 329ms/step - loss: 0.5100 - accuracy: 0.7900 - auc: 0.8461 - precision: 0.7596 - recall: 0.8229 - val_loss: 0.4110 - val_accuracy: 0.8022 - val_auc: 0.9043 - val_precision: 0.8426 - val_recall: 0.6825\n",
      "\n",
      "Epoch 00012: val_accuracy did not improve from 0.84778\n",
      "Epoch 13/15\n",
      "50/50 [==============================] - 16s 330ms/step - loss: 0.5392 - accuracy: 0.7900 - auc: 0.8237 - precision: 0.7611 - recall: 0.8515 - val_loss: 0.4116 - val_accuracy: 0.8078 - val_auc: 0.9281 - val_precision: 0.9158 - val_recall: 0.6250\n",
      "\n",
      "Epoch 00014: val_accuracy did not improve from 0.84778\n",
      "Epoch 15/15\n",
      "50/50 [==============================] - 17s 341ms/step - loss: 0.5127 - accuracy: 0.7700 - auc: 0.8336 - precision: 0.7500 - recall: 0.7959 - val_loss: 0.4206 - val_accuracy: 0.8056 - val_auc: 0.9094 - val_precision: 0.8713 - val_recall: 0.6600\n",
      "\n",
      "Epoch 00015: val_accuracy did not improve from 0.84778\n"
     ]
    }
   ],
   "source": [
    "from tensorflow.keras.callbacks import ModelCheckpoint, EarlyStopping\n",
    "es=EarlyStopping(patience=3,monitor='val_loss')\n",
    "filepath='best_model.h5'\n",
    "checkpoint = ModelCheckpoint(filepath, monitor='val_accuracy', verbose=1, save_best_only=True, mode='max')\n",
    "history = model.fit(\n",
    "    train_generator,\n",
    "    epochs=15,\n",
    "    validation_data=validation_generator,\n",
    "    steps_per_epoch= 50,\n",
    "    callbacks=checkpoint\n",
    "    )"
   ]
  },
  {
   "cell_type": "code",
   "execution_count": 9,
   "metadata": {
    "execution": {
     "iopub.execute_input": "2022-11-04T05:56:07.098913Z",
     "iopub.status.busy": "2022-11-04T05:56:07.098540Z",
     "iopub.status.idle": "2022-11-04T05:56:21.069250Z",
     "shell.execute_reply": "2022-11-04T05:56:21.068405Z",
     "shell.execute_reply.started": "2022-11-04T05:56:07.098877Z"
    }
   },
   "outputs": [
    {
     "name": "stdout",
     "output_type": "stream",
     "text": [
      "225/225 [==============================] - 14s 62ms/step - loss: 0.3877 - accuracy: 0.8189 - auc: 0.9243 - precision: 0.8810 - recall: 0.6850\n"
     ]
    },
    {
     "data": {
      "text/plain": [
       "[0.3877110481262207,\n",
       " 0.8188889026641846,\n",
       " 0.9242975115776062,\n",
       " 0.881028950214386,\n",
       " 0.6850000023841858]"
      ]
     },
     "execution_count": 9,
     "metadata": {},
     "output_type": "execute_result"
    }
   ],
   "source": [
    "model.evaluate(validation_generator)"
   ]
  },
  {
   "cell_type": "code",
   "execution_count": 10,
   "metadata": {
    "execution": {
     "iopub.execute_input": "2022-11-04T05:56:21.075698Z",
     "iopub.status.busy": "2022-11-04T05:56:21.073169Z",
     "iopub.status.idle": "2022-11-04T05:58:36.730425Z",
     "shell.execute_reply": "2022-11-04T05:58:36.729561Z",
     "shell.execute_reply.started": "2022-11-04T05:56:21.075661Z"
    }
   },
   "outputs": [
    {
     "name": "stdout",
     "output_type": "stream",
     "text": [
      "2029/2029 [==============================] - 136s 67ms/step - loss: 0.3530 - accuracy: 0.8456 - auc: 0.9268 - precision: 0.8718 - recall: 0.8090\n"
     ]
    },
    {
     "data": {
      "text/plain": [
       "[0.3530002236366272,\n",
       " 0.8456135988235474,\n",
       " 0.9267920255661011,\n",
       " 0.871767520904541,\n",
       " 0.8090054392814636]"
      ]
     },
     "execution_count": 10,
     "metadata": {},
     "output_type": "execute_result"
    }
   ],
   "source": [
    "model.evaluate(train_generator)"
   ]
  },
  {
   "cell_type": "markdown",
   "metadata": {},
   "source": [
    "### The CNN model produced 82% validation accuracy. "
   ]
  },
  {
   "cell_type": "code",
   "execution_count": 2,
   "metadata": {},
   "outputs": [],
   "source": [
    "model.save('CNN for breast ultrasound.h5')"
   ]
  }
 ],
 "metadata": {
  "kernelspec": {
   "display_name": "Python 3",
   "language": "python",
   "name": "python3"
  },
  "language_info": {
   "codemirror_mode": {
    "name": "ipython",
    "version": 3
   },
   "file_extension": ".py",
   "mimetype": "text/x-python",
   "name": "python",
   "nbconvert_exporter": "python",
   "pygments_lexer": "ipython3",
   "version": "3.8.8"
  }
 },
 "nbformat": 4,
 "nbformat_minor": 4
}
